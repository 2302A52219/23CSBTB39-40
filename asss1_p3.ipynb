{
  "nbformat": 4,
  "nbformat_minor": 0,
  "metadata": {
    "colab": {
      "provenance": [],
      "authorship_tag": "ABX9TyOzdeJReNIJeJlt4KuQInZi",
      "include_colab_link": true
    },
    "kernelspec": {
      "name": "python3",
      "display_name": "Python 3"
    },
    "language_info": {
      "name": "python"
    }
  },
  "cells": [
    {
      "cell_type": "markdown",
      "metadata": {
        "id": "view-in-github",
        "colab_type": "text"
      },
      "source": [
        "<a href=\"https://colab.research.google.com/github/2302A52219/23CSBTB39-40/blob/main/asss1_p3.ipynb\" target=\"_parent\"><img src=\"https://colab.research.google.com/assets/colab-badge.svg\" alt=\"Open In Colab\"/></a>"
      ]
    },
    {
      "cell_type": "code",
      "execution_count": 6,
      "metadata": {
        "colab": {
          "base_uri": "https://localhost:8080/"
        },
        "id": "7ka616iUIvN6",
        "outputId": "8f634afd-7ba7-45b8-d346-49b64d170034"
      },
      "outputs": [
        {
          "output_type": "stream",
          "name": "stdout",
          "text": [
            "    st id st name coures  contact\n",
            "0    2110     adc    cse    12233\n",
            "1    2111     sdc    cse     1723\n",
            "2    2112     eds    ece     2498\n",
            "3    2113     tgv    bba    89737\n",
            "4    2114     res    bba     9773\n",
            "5    2115     inj  civil    20974\n",
            "6    2116     ocs  civil     8734\n",
            "7    2117     ehc    cse      987\n",
            "8    2118     vsh    ece     4545\n",
            "9    2119     dyw  civil     3245\n",
            "10   2120     mxj    ece     2345\n"
          ]
        }
      ],
      "source": [
        "import pandas as pd\n",
        "df=pd.read_csv(\"student-csv.csv\")\n",
        "print(df)"
      ]
    },
    {
      "cell_type": "code",
      "source": [
        "import pandas as pd\n",
        "df=pd.read_table(\"student-txt.txt\")\n",
        "print(df)"
      ],
      "metadata": {
        "colab": {
          "base_uri": "https://localhost:8080/"
        },
        "id": "amWm-t-3K0ow",
        "outputId": "b28ba510-1d33-43d7-839c-639952c65316"
      },
      "execution_count": 9,
      "outputs": [
        {
          "output_type": "stream",
          "name": "stdout",
          "text": [
            "    st id st name coures  contact\n",
            "0    2110     adc    cse    12233\n",
            "1    2111     sdc    cse     1723\n",
            "2    2112     eds    ece     2498\n",
            "3    2113     tgv    bba    89737\n",
            "4    2114     res    bba     9773\n",
            "5    2115     inj  civil    20974\n",
            "6    2116     ocs  civil     8734\n",
            "7    2117     ehc    cse      987\n",
            "8    2118     vsh    ece     4545\n",
            "9    2119     dyw  civil     3245\n",
            "10   2120     mxj    ece     2345\n"
          ]
        }
      ]
    },
    {
      "cell_type": "code",
      "source": [
        "import pandas as pd\n",
        "df=pd.read_excel(\"student-ex.xlsx\")\n",
        "print(df)"
      ],
      "metadata": {
        "colab": {
          "base_uri": "https://localhost:8080/"
        },
        "id": "anwOV0zELEPT",
        "outputId": "c57b0608-5630-445a-da5c-d9c3dc5292f3"
      },
      "execution_count": 10,
      "outputs": [
        {
          "output_type": "stream",
          "name": "stdout",
          "text": [
            "    st id st name coures  contact\n",
            "0    2110     adc    cse    12233\n",
            "1    2111     sdc    cse     1723\n",
            "2    2112     eds    ece     2498\n",
            "3    2113     tgv    bba    89737\n",
            "4    2114     res    bba     9773\n",
            "5    2115     inj  civil    20974\n",
            "6    2116     ocs  civil     8734\n",
            "7    2117     ehc    cse      987\n",
            "8    2118     vsh    ece     4545\n",
            "9    2119     dyw  civil     3245\n",
            "10   2120     mxj    ece     2345\n"
          ]
        }
      ]
    }
  ]
}