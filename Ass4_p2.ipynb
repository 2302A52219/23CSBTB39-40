{
  "nbformat": 4,
  "nbformat_minor": 0,
  "metadata": {
    "colab": {
      "provenance": [],
      "authorship_tag": "ABX9TyN+plMSIVEDhfgQXWh3tAK+",
      "include_colab_link": true
    },
    "kernelspec": {
      "name": "python3",
      "display_name": "Python 3"
    },
    "language_info": {
      "name": "python"
    }
  },
  "cells": [
    {
      "cell_type": "markdown",
      "metadata": {
        "id": "view-in-github",
        "colab_type": "text"
      },
      "source": [
        "<a href=\"https://colab.research.google.com/github/2302A52219/23CSBTB39-40/blob/main/Ass4_p2.ipynb\" target=\"_parent\"><img src=\"https://colab.research.google.com/assets/colab-badge.svg\" alt=\"Open In Colab\"/></a>"
      ]
    },
    {
      "cell_type": "code",
      "execution_count": 1,
      "metadata": {
        "colab": {
          "base_uri": "https://localhost:8080/"
        },
        "id": "-J8p9dGoVx8b",
        "outputId": "d5ce13cd-170d-407b-9033-8f82c3e4cfc4"
      },
      "outputs": [
        {
          "output_type": "stream",
          "name": "stdout",
          "text": [
            "Intercept: 0.014386221352160389\n",
            "Slope: 3.447013831800389\n",
            "CDF of the predictions: [0.22304652 0.92167699 0.11001209 0.43921487 0.70578228 0.93924842\n",
            " 0.11284786 0.54309827 0.11019263 0.16337562 0.16135053 0.48954083\n",
            " 0.26952684 0.92736657 0.19700347 0.89526003 0.60791478 0.92895005\n",
            " 0.78077611 0.21138519]\n"
          ]
        }
      ],
      "source": [
        "import numpy as np\n",
        "from sklearn.model_selection import train_test_split\n",
        "X = np.random.rand(100, 1)\n",
        "Y = 3 * X.squeeze() + np.random.randn(100)\n",
        "\n",
        "X_train, X_test, Y_train, Y_test = train_test_split(X, Y, test_size=0.2, random_state=42)\n",
        "from sklearn.linear_model import LinearRegression\n",
        "\n",
        "model = LinearRegression()\n",
        "model.fit(X_train, Y_train)\n",
        "import scipy.stats as stats\n",
        "intercept = model.intercept_\n",
        "slope = model.coef_[0]\n",
        "Y_pred = model.predict(X_test)\n",
        "cdf_values = stats.norm.cdf(Y_pred, np.mean(Y_pred), np.std(Y_pred))\n",
        "print(f\"Intercept: {intercept}\")\n",
        "print(f\"Slope: {slope}\")\n",
        "print(f\"CDF of the predictions: {cdf_values}\")\n"
      ]
    }
  ]
}